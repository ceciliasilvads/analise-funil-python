{
  "nbformat": 4,
  "nbformat_minor": 0,
  "metadata": {
    "colab": {
      "provenance": [],
      "authorship_tag": "ABX9TyMtZ64WZ5uRFnndIBIE/G69",
      "include_colab_link": true
    },
    "kernelspec": {
      "name": "python3",
      "display_name": "Python 3"
    },
    "language_info": {
      "name": "python"
    }
  },
  "cells": [
    {
      "cell_type": "markdown",
      "metadata": {
        "id": "view-in-github",
        "colab_type": "text"
      },
      "source": [
        "<a href=\"https://colab.research.google.com/github/ceciliasilvads/analise-funil-python/blob/main/An%C3%A1lise_de_Funil_(Python_Cerrado).ipynb\" target=\"_parent\"><img src=\"https://colab.research.google.com/assets/colab-badge.svg\" alt=\"Open In Colab\"/></a>"
      ]
    },
    {
      "cell_type": "markdown",
      "source": [
        "# **Análise de Funil de Conversão na Prática com Python**\n",
        "*por Cecília Souza*\n"
      ],
      "metadata": {
        "id": "bdfdITnpp5_Y"
      }
    },
    {
      "cell_type": "markdown",
      "source": [
        "### 🛠️**Case prático - EduMais Plataforma de cursos online**\n",
        "\n",
        "🔎**Contexto**\n",
        "\n",
        "> A EduMais é uma plataforma de cursos online voltada para iniciantes em tecnologia. Ela oferece cursos em diversas áreas como programação, design e análise de dados. O modelo de negócio é baseado em funil: os usuários podem visitar a plataforma, se cadastrar gratuitamente, assistir a uma aula experimental e, se gostarem, comprar cursos completos.\n",
        "\n",
        "> Nos últimos meses, a equipe de marketing percebeu que o número de vendas não está crescendo na mesma proporção que o número de visitantes. Eles suspeitam que existam gargalos em alguma etapa da jornada, mas não sabem exatamente onde.\n",
        "\n",
        "> Para investigar, a equipe coletou dados das etapas principais da jornada dos usuários:\n",
        "\n",
        "  - **Visita:** Usuário acessa o site pela primeira vez.\n",
        "  - **Cadastro:** Cria uma conta gratuita.\n",
        "  - **Primeira aula:** Assiste a uma aula experimental de um curso.\n",
        "  - **Compra:** Compra o primeiro curso completo.\n",
        "\n"
      ],
      "metadata": {
        "id": "gzLCRnYzxesh"
      }
    },
    {
      "cell_type": "markdown",
      "source": [
        "#### 🎯**Objetivo da análise:**\n",
        "\n",
        "> A análise busca entender o comportamento dos usuários no funil de conversão da EduMais.\n",
        "\n",
        "**Queremos:**\n",
        "\n",
        "- Quantificar quantos usuários passam por cada etapa do funil.\n",
        "- Calcular as taxas de conversão entre cada etapa.\n",
        "- Identificar gargalos (pontos de desistência).\n",
        "\n",
        "\n",
        "**Por que isso é importante?**\n",
        "\n",
        "> A partir da análise, a EduMais poderá focar esforços em otimizar a etapa correta, melhorando a experiência dos usuários e aumentando o faturamento sem necessariamente aumentar os investimentos em marketing.\n",
        "\n",
        "\n",
        "**Perguntas a serem respondidas**\n",
        "- Quantos usuários passam por cada etapa da jornada?\n",
        "- Quais são as taxas de conversão entre as etapas?\n",
        "- Em qual etapa ocorre a maior perda de usuários?\n",
        "- Quanto tempo os usuários levam para avançar em cada etapa?"
      ],
      "metadata": {
        "id": "5ys-CT290Cq3"
      }
    },
    {
      "cell_type": "markdown",
      "source": [
        "#### **0. Importações e base dedados**"
      ],
      "metadata": {
        "id": "VnG_LllKfdff"
      }
    },
    {
      "cell_type": "code",
      "source": [
        "# Importando bibliotecas\n",
        "\n",
        "import pandas as pd  # Trabalhar com dados em formato de tabela (análise e manipulação)\n",
        "import matplotlib.pyplot as plt  # Criar gráficos estáticos (barras, linhas, histogramas)\n",
        "import plotly.graph_objects as go  # Criar gráficos interativos (funil, dashboards, visualizações avançadas)"
      ],
      "metadata": {
        "id": "nAEViMqdePWv"
      },
      "execution_count": null,
      "outputs": []
    },
    {
      "cell_type": "code",
      "source": [
        "# Carregando os dados\n",
        "\n",
        "# URL do arquivo CSV no GitHub (use o link RAW)\n",
        "url = \"https://raw.githubusercontent.com/ceciliasilvads/analise-funil-python/main/Funil%20%20EduMais%20-%20DB%20-%20EduMais.csv\"\n",
        "\n",
        "\n",
        "df_edumais = pd.read_csv(url)\n",
        "df_edumais.head(10)"
      ],
      "metadata": {
        "id": "cnn-4HVz4MfI",
        "colab": {
          "base_uri": "https://localhost:8080/",
          "height": 432
        },
        "outputId": "c596747b-8964-4c73-ef1c-041b97ecb70a"
      },
      "execution_count": null,
      "outputs": [
        {
          "output_type": "stream",
          "name": "stderr",
          "text": [
            "/usr/local/lib/python3.11/dist-packages/google/colab/_dataframe_summarizer.py:88: UserWarning:\n",
            "\n",
            "Parsing dates in %d/%m/%Y format when dayfirst=False (the default) was specified. Pass `dayfirst=True` or specify a format to silence this warning.\n",
            "\n"
          ]
        },
        {
          "output_type": "execute_result",
          "data": {
            "text/plain": [
              "   id data_acesso data_cadastro data_primeira_aula data_primeira_compra\n",
              "0   1  07/07/2025           NaN                NaN                  NaN\n",
              "1   2  15/07/2025           NaN                NaN                  NaN\n",
              "2   3  07/07/2025    09/07/2025         09/07/2025                  NaN\n",
              "3   4  03/07/2025    04/07/2025                NaN                  NaN\n",
              "4   5  06/07/2025    06/07/2025                NaN                  NaN\n",
              "5   6  12/07/2025    14/07/2025                NaN                  NaN\n",
              "6   7  10/07/2025    12/07/2025         14/07/2025                  NaN\n",
              "7   8  12/07/2025    12/07/2025         14/07/2025                  NaN\n",
              "8   9  09/07/2025    09/07/2025                NaN                  NaN\n",
              "9  10  18/07/2025    19/07/2025         21/07/2025                  NaN"
            ],
            "text/html": [
              "\n",
              "  <div id=\"df-586b6141-1d62-4944-9ae0-7c59ba46f666\" class=\"colab-df-container\">\n",
              "    <div>\n",
              "<style scoped>\n",
              "    .dataframe tbody tr th:only-of-type {\n",
              "        vertical-align: middle;\n",
              "    }\n",
              "\n",
              "    .dataframe tbody tr th {\n",
              "        vertical-align: top;\n",
              "    }\n",
              "\n",
              "    .dataframe thead th {\n",
              "        text-align: right;\n",
              "    }\n",
              "</style>\n",
              "<table border=\"1\" class=\"dataframe\">\n",
              "  <thead>\n",
              "    <tr style=\"text-align: right;\">\n",
              "      <th></th>\n",
              "      <th>id</th>\n",
              "      <th>data_acesso</th>\n",
              "      <th>data_cadastro</th>\n",
              "      <th>data_primeira_aula</th>\n",
              "      <th>data_primeira_compra</th>\n",
              "    </tr>\n",
              "  </thead>\n",
              "  <tbody>\n",
              "    <tr>\n",
              "      <th>0</th>\n",
              "      <td>1</td>\n",
              "      <td>07/07/2025</td>\n",
              "      <td>NaN</td>\n",
              "      <td>NaN</td>\n",
              "      <td>NaN</td>\n",
              "    </tr>\n",
              "    <tr>\n",
              "      <th>1</th>\n",
              "      <td>2</td>\n",
              "      <td>15/07/2025</td>\n",
              "      <td>NaN</td>\n",
              "      <td>NaN</td>\n",
              "      <td>NaN</td>\n",
              "    </tr>\n",
              "    <tr>\n",
              "      <th>2</th>\n",
              "      <td>3</td>\n",
              "      <td>07/07/2025</td>\n",
              "      <td>09/07/2025</td>\n",
              "      <td>09/07/2025</td>\n",
              "      <td>NaN</td>\n",
              "    </tr>\n",
              "    <tr>\n",
              "      <th>3</th>\n",
              "      <td>4</td>\n",
              "      <td>03/07/2025</td>\n",
              "      <td>04/07/2025</td>\n",
              "      <td>NaN</td>\n",
              "      <td>NaN</td>\n",
              "    </tr>\n",
              "    <tr>\n",
              "      <th>4</th>\n",
              "      <td>5</td>\n",
              "      <td>06/07/2025</td>\n",
              "      <td>06/07/2025</td>\n",
              "      <td>NaN</td>\n",
              "      <td>NaN</td>\n",
              "    </tr>\n",
              "    <tr>\n",
              "      <th>5</th>\n",
              "      <td>6</td>\n",
              "      <td>12/07/2025</td>\n",
              "      <td>14/07/2025</td>\n",
              "      <td>NaN</td>\n",
              "      <td>NaN</td>\n",
              "    </tr>\n",
              "    <tr>\n",
              "      <th>6</th>\n",
              "      <td>7</td>\n",
              "      <td>10/07/2025</td>\n",
              "      <td>12/07/2025</td>\n",
              "      <td>14/07/2025</td>\n",
              "      <td>NaN</td>\n",
              "    </tr>\n",
              "    <tr>\n",
              "      <th>7</th>\n",
              "      <td>8</td>\n",
              "      <td>12/07/2025</td>\n",
              "      <td>12/07/2025</td>\n",
              "      <td>14/07/2025</td>\n",
              "      <td>NaN</td>\n",
              "    </tr>\n",
              "    <tr>\n",
              "      <th>8</th>\n",
              "      <td>9</td>\n",
              "      <td>09/07/2025</td>\n",
              "      <td>09/07/2025</td>\n",
              "      <td>NaN</td>\n",
              "      <td>NaN</td>\n",
              "    </tr>\n",
              "    <tr>\n",
              "      <th>9</th>\n",
              "      <td>10</td>\n",
              "      <td>18/07/2025</td>\n",
              "      <td>19/07/2025</td>\n",
              "      <td>21/07/2025</td>\n",
              "      <td>NaN</td>\n",
              "    </tr>\n",
              "  </tbody>\n",
              "</table>\n",
              "</div>\n",
              "    <div class=\"colab-df-buttons\">\n",
              "\n",
              "  <div class=\"colab-df-container\">\n",
              "    <button class=\"colab-df-convert\" onclick=\"convertToInteractive('df-586b6141-1d62-4944-9ae0-7c59ba46f666')\"\n",
              "            title=\"Convert this dataframe to an interactive table.\"\n",
              "            style=\"display:none;\">\n",
              "\n",
              "  <svg xmlns=\"http://www.w3.org/2000/svg\" height=\"24px\" viewBox=\"0 -960 960 960\">\n",
              "    <path d=\"M120-120v-720h720v720H120Zm60-500h600v-160H180v160Zm220 220h160v-160H400v160Zm0 220h160v-160H400v160ZM180-400h160v-160H180v160Zm440 0h160v-160H620v160ZM180-180h160v-160H180v160Zm440 0h160v-160H620v160Z\"/>\n",
              "  </svg>\n",
              "    </button>\n",
              "\n",
              "  <style>\n",
              "    .colab-df-container {\n",
              "      display:flex;\n",
              "      gap: 12px;\n",
              "    }\n",
              "\n",
              "    .colab-df-convert {\n",
              "      background-color: #E8F0FE;\n",
              "      border: none;\n",
              "      border-radius: 50%;\n",
              "      cursor: pointer;\n",
              "      display: none;\n",
              "      fill: #1967D2;\n",
              "      height: 32px;\n",
              "      padding: 0 0 0 0;\n",
              "      width: 32px;\n",
              "    }\n",
              "\n",
              "    .colab-df-convert:hover {\n",
              "      background-color: #E2EBFA;\n",
              "      box-shadow: 0px 1px 2px rgba(60, 64, 67, 0.3), 0px 1px 3px 1px rgba(60, 64, 67, 0.15);\n",
              "      fill: #174EA6;\n",
              "    }\n",
              "\n",
              "    .colab-df-buttons div {\n",
              "      margin-bottom: 4px;\n",
              "    }\n",
              "\n",
              "    [theme=dark] .colab-df-convert {\n",
              "      background-color: #3B4455;\n",
              "      fill: #D2E3FC;\n",
              "    }\n",
              "\n",
              "    [theme=dark] .colab-df-convert:hover {\n",
              "      background-color: #434B5C;\n",
              "      box-shadow: 0px 1px 3px 1px rgba(0, 0, 0, 0.15);\n",
              "      filter: drop-shadow(0px 1px 2px rgba(0, 0, 0, 0.3));\n",
              "      fill: #FFFFFF;\n",
              "    }\n",
              "  </style>\n",
              "\n",
              "    <script>\n",
              "      const buttonEl =\n",
              "        document.querySelector('#df-586b6141-1d62-4944-9ae0-7c59ba46f666 button.colab-df-convert');\n",
              "      buttonEl.style.display =\n",
              "        google.colab.kernel.accessAllowed ? 'block' : 'none';\n",
              "\n",
              "      async function convertToInteractive(key) {\n",
              "        const element = document.querySelector('#df-586b6141-1d62-4944-9ae0-7c59ba46f666');\n",
              "        const dataTable =\n",
              "          await google.colab.kernel.invokeFunction('convertToInteractive',\n",
              "                                                    [key], {});\n",
              "        if (!dataTable) return;\n",
              "\n",
              "        const docLinkHtml = 'Like what you see? Visit the ' +\n",
              "          '<a target=\"_blank\" href=https://colab.research.google.com/notebooks/data_table.ipynb>data table notebook</a>'\n",
              "          + ' to learn more about interactive tables.';\n",
              "        element.innerHTML = '';\n",
              "        dataTable['output_type'] = 'display_data';\n",
              "        await google.colab.output.renderOutput(dataTable, element);\n",
              "        const docLink = document.createElement('div');\n",
              "        docLink.innerHTML = docLinkHtml;\n",
              "        element.appendChild(docLink);\n",
              "      }\n",
              "    </script>\n",
              "  </div>\n",
              "\n",
              "\n",
              "    <div id=\"df-2554db29-b533-42ad-867f-3d4b3d8b22e7\">\n",
              "      <button class=\"colab-df-quickchart\" onclick=\"quickchart('df-2554db29-b533-42ad-867f-3d4b3d8b22e7')\"\n",
              "                title=\"Suggest charts\"\n",
              "                style=\"display:none;\">\n",
              "\n",
              "<svg xmlns=\"http://www.w3.org/2000/svg\" height=\"24px\"viewBox=\"0 0 24 24\"\n",
              "     width=\"24px\">\n",
              "    <g>\n",
              "        <path d=\"M19 3H5c-1.1 0-2 .9-2 2v14c0 1.1.9 2 2 2h14c1.1 0 2-.9 2-2V5c0-1.1-.9-2-2-2zM9 17H7v-7h2v7zm4 0h-2V7h2v10zm4 0h-2v-4h2v4z\"/>\n",
              "    </g>\n",
              "</svg>\n",
              "      </button>\n",
              "\n",
              "<style>\n",
              "  .colab-df-quickchart {\n",
              "      --bg-color: #E8F0FE;\n",
              "      --fill-color: #1967D2;\n",
              "      --hover-bg-color: #E2EBFA;\n",
              "      --hover-fill-color: #174EA6;\n",
              "      --disabled-fill-color: #AAA;\n",
              "      --disabled-bg-color: #DDD;\n",
              "  }\n",
              "\n",
              "  [theme=dark] .colab-df-quickchart {\n",
              "      --bg-color: #3B4455;\n",
              "      --fill-color: #D2E3FC;\n",
              "      --hover-bg-color: #434B5C;\n",
              "      --hover-fill-color: #FFFFFF;\n",
              "      --disabled-bg-color: #3B4455;\n",
              "      --disabled-fill-color: #666;\n",
              "  }\n",
              "\n",
              "  .colab-df-quickchart {\n",
              "    background-color: var(--bg-color);\n",
              "    border: none;\n",
              "    border-radius: 50%;\n",
              "    cursor: pointer;\n",
              "    display: none;\n",
              "    fill: var(--fill-color);\n",
              "    height: 32px;\n",
              "    padding: 0;\n",
              "    width: 32px;\n",
              "  }\n",
              "\n",
              "  .colab-df-quickchart:hover {\n",
              "    background-color: var(--hover-bg-color);\n",
              "    box-shadow: 0 1px 2px rgba(60, 64, 67, 0.3), 0 1px 3px 1px rgba(60, 64, 67, 0.15);\n",
              "    fill: var(--button-hover-fill-color);\n",
              "  }\n",
              "\n",
              "  .colab-df-quickchart-complete:disabled,\n",
              "  .colab-df-quickchart-complete:disabled:hover {\n",
              "    background-color: var(--disabled-bg-color);\n",
              "    fill: var(--disabled-fill-color);\n",
              "    box-shadow: none;\n",
              "  }\n",
              "\n",
              "  .colab-df-spinner {\n",
              "    border: 2px solid var(--fill-color);\n",
              "    border-color: transparent;\n",
              "    border-bottom-color: var(--fill-color);\n",
              "    animation:\n",
              "      spin 1s steps(1) infinite;\n",
              "  }\n",
              "\n",
              "  @keyframes spin {\n",
              "    0% {\n",
              "      border-color: transparent;\n",
              "      border-bottom-color: var(--fill-color);\n",
              "      border-left-color: var(--fill-color);\n",
              "    }\n",
              "    20% {\n",
              "      border-color: transparent;\n",
              "      border-left-color: var(--fill-color);\n",
              "      border-top-color: var(--fill-color);\n",
              "    }\n",
              "    30% {\n",
              "      border-color: transparent;\n",
              "      border-left-color: var(--fill-color);\n",
              "      border-top-color: var(--fill-color);\n",
              "      border-right-color: var(--fill-color);\n",
              "    }\n",
              "    40% {\n",
              "      border-color: transparent;\n",
              "      border-right-color: var(--fill-color);\n",
              "      border-top-color: var(--fill-color);\n",
              "    }\n",
              "    60% {\n",
              "      border-color: transparent;\n",
              "      border-right-color: var(--fill-color);\n",
              "    }\n",
              "    80% {\n",
              "      border-color: transparent;\n",
              "      border-right-color: var(--fill-color);\n",
              "      border-bottom-color: var(--fill-color);\n",
              "    }\n",
              "    90% {\n",
              "      border-color: transparent;\n",
              "      border-bottom-color: var(--fill-color);\n",
              "    }\n",
              "  }\n",
              "</style>\n",
              "\n",
              "      <script>\n",
              "        async function quickchart(key) {\n",
              "          const quickchartButtonEl =\n",
              "            document.querySelector('#' + key + ' button');\n",
              "          quickchartButtonEl.disabled = true;  // To prevent multiple clicks.\n",
              "          quickchartButtonEl.classList.add('colab-df-spinner');\n",
              "          try {\n",
              "            const charts = await google.colab.kernel.invokeFunction(\n",
              "                'suggestCharts', [key], {});\n",
              "          } catch (error) {\n",
              "            console.error('Error during call to suggestCharts:', error);\n",
              "          }\n",
              "          quickchartButtonEl.classList.remove('colab-df-spinner');\n",
              "          quickchartButtonEl.classList.add('colab-df-quickchart-complete');\n",
              "        }\n",
              "        (() => {\n",
              "          let quickchartButtonEl =\n",
              "            document.querySelector('#df-2554db29-b533-42ad-867f-3d4b3d8b22e7 button');\n",
              "          quickchartButtonEl.style.display =\n",
              "            google.colab.kernel.accessAllowed ? 'block' : 'none';\n",
              "        })();\n",
              "      </script>\n",
              "    </div>\n",
              "\n",
              "    </div>\n",
              "  </div>\n"
            ],
            "application/vnd.google.colaboratory.intrinsic+json": {
              "type": "dataframe",
              "variable_name": "df_edumais",
              "summary": "{\n  \"name\": \"df_edumais\",\n  \"rows\": 500,\n  \"fields\": [\n    {\n      \"column\": \"id\",\n      \"properties\": {\n        \"dtype\": \"number\",\n        \"std\": 144,\n        \"min\": 1,\n        \"max\": 500,\n        \"num_unique_values\": 500,\n        \"samples\": [\n          362,\n          74,\n          375\n        ],\n        \"semantic_type\": \"\",\n        \"description\": \"\"\n      }\n    },\n    {\n      \"column\": \"data_acesso\",\n      \"properties\": {\n        \"dtype\": \"category\",\n        \"num_unique_values\": 20,\n        \"samples\": [\n          \"07/07/2025\",\n          \"20/07/2025\",\n          \"14/07/2025\"\n        ],\n        \"semantic_type\": \"\",\n        \"description\": \"\"\n      }\n    },\n    {\n      \"column\": \"data_cadastro\",\n      \"properties\": {\n        \"dtype\": \"category\",\n        \"num_unique_values\": 22,\n        \"samples\": [\n          \"09/07/2025\",\n          \"18/07/2025\",\n          \"15/07/2025\"\n        ],\n        \"semantic_type\": \"\",\n        \"description\": \"\"\n      }\n    },\n    {\n      \"column\": \"data_primeira_aula\",\n      \"properties\": {\n        \"dtype\": \"category\",\n        \"num_unique_values\": 24,\n        \"samples\": [\n          \"06/07/2025\",\n          \"03/07/2025\",\n          \"09/07/2025\"\n        ],\n        \"semantic_type\": \"\",\n        \"description\": \"\"\n      }\n    },\n    {\n      \"column\": \"data_primeira_compra\",\n      \"properties\": {\n        \"dtype\": \"date\",\n        \"min\": \"2025-07-03 00:00:00\",\n        \"max\": \"2025-07-25 00:00:00\",\n        \"num_unique_values\": 23,\n        \"samples\": [\n          \"24/07/2025\",\n          \"12/07/2025\",\n          \"17/07/2025\"\n        ],\n        \"semantic_type\": \"\",\n        \"description\": \"\"\n      }\n    }\n  ]\n}"
            }
          },
          "metadata": {},
          "execution_count": 95
        }
      ]
    },
    {
      "cell_type": "markdown",
      "source": [
        "#### **1. Explorando e preparando os dados**"
      ],
      "metadata": {
        "id": "Oli8qG69xrHx"
      }
    },
    {
      "cell_type": "code",
      "source": [
        "#Mostrando os tipos das colunas do dataframe\n",
        "df_edumais.dtypes"
      ],
      "metadata": {
        "colab": {
          "base_uri": "https://localhost:8080/",
          "height": 241
        },
        "id": "lIWvnuDUfc6V",
        "outputId": "bf688ce8-6155-4f9e-dbe5-5a11967c181d"
      },
      "execution_count": null,
      "outputs": [
        {
          "output_type": "execute_result",
          "data": {
            "text/plain": [
              "id                       int64\n",
              "data_acesso             object\n",
              "data_cadastro           object\n",
              "data_primeira_aula      object\n",
              "data_primeira_compra    object\n",
              "dtype: object"
            ],
            "text/html": [
              "<div>\n",
              "<style scoped>\n",
              "    .dataframe tbody tr th:only-of-type {\n",
              "        vertical-align: middle;\n",
              "    }\n",
              "\n",
              "    .dataframe tbody tr th {\n",
              "        vertical-align: top;\n",
              "    }\n",
              "\n",
              "    .dataframe thead th {\n",
              "        text-align: right;\n",
              "    }\n",
              "</style>\n",
              "<table border=\"1\" class=\"dataframe\">\n",
              "  <thead>\n",
              "    <tr style=\"text-align: right;\">\n",
              "      <th></th>\n",
              "      <th>0</th>\n",
              "    </tr>\n",
              "  </thead>\n",
              "  <tbody>\n",
              "    <tr>\n",
              "      <th>id</th>\n",
              "      <td>int64</td>\n",
              "    </tr>\n",
              "    <tr>\n",
              "      <th>data_acesso</th>\n",
              "      <td>object</td>\n",
              "    </tr>\n",
              "    <tr>\n",
              "      <th>data_cadastro</th>\n",
              "      <td>object</td>\n",
              "    </tr>\n",
              "    <tr>\n",
              "      <th>data_primeira_aula</th>\n",
              "      <td>object</td>\n",
              "    </tr>\n",
              "    <tr>\n",
              "      <th>data_primeira_compra</th>\n",
              "      <td>object</td>\n",
              "    </tr>\n",
              "  </tbody>\n",
              "</table>\n",
              "</div><br><label><b>dtype:</b> object</label>"
            ]
          },
          "metadata": {},
          "execution_count": 96
        }
      ]
    },
    {
      "cell_type": "code",
      "source": [
        "# Alterando o tipo de dados da coluna\n",
        "df_edumais['data_acesso'] = pd.to_datetime(df_edumais['data_acesso'], format=\"%d/%m/%Y\", errors='coerce')\n",
        "\n",
        "df_edumais['data_cadastro'] = pd.to_datetime(df_edumais['data_cadastro'], format=\"%d/%m/%Y\", errors='coerce')\n",
        "\n",
        "df_edumais['data_primeira_aula'] = pd.to_datetime(df_edumais['data_primeira_aula'], format=\"%d/%m/%Y\", errors='coerce')\n",
        "\n",
        "df_edumais['data_primeira_compra'] = pd.to_datetime(df_edumais['data_primeira_compra'], format=\"%d/%m/%Y\", errors='coerce')\n",
        "\n",
        "df_edumais.dtypes"
      ],
      "metadata": {
        "colab": {
          "base_uri": "https://localhost:8080/",
          "height": 241
        },
        "id": "czTmPI6ehLHD",
        "outputId": "2c1f839f-8fa7-43ed-e107-7f7d91dff0e6"
      },
      "execution_count": null,
      "outputs": [
        {
          "output_type": "execute_result",
          "data": {
            "text/plain": [
              "id                               int64\n",
              "data_acesso             datetime64[ns]\n",
              "data_cadastro           datetime64[ns]\n",
              "data_primeira_aula      datetime64[ns]\n",
              "data_primeira_compra    datetime64[ns]\n",
              "dtype: object"
            ],
            "text/html": [
              "<div>\n",
              "<style scoped>\n",
              "    .dataframe tbody tr th:only-of-type {\n",
              "        vertical-align: middle;\n",
              "    }\n",
              "\n",
              "    .dataframe tbody tr th {\n",
              "        vertical-align: top;\n",
              "    }\n",
              "\n",
              "    .dataframe thead th {\n",
              "        text-align: right;\n",
              "    }\n",
              "</style>\n",
              "<table border=\"1\" class=\"dataframe\">\n",
              "  <thead>\n",
              "    <tr style=\"text-align: right;\">\n",
              "      <th></th>\n",
              "      <th>0</th>\n",
              "    </tr>\n",
              "  </thead>\n",
              "  <tbody>\n",
              "    <tr>\n",
              "      <th>id</th>\n",
              "      <td>int64</td>\n",
              "    </tr>\n",
              "    <tr>\n",
              "      <th>data_acesso</th>\n",
              "      <td>datetime64[ns]</td>\n",
              "    </tr>\n",
              "    <tr>\n",
              "      <th>data_cadastro</th>\n",
              "      <td>datetime64[ns]</td>\n",
              "    </tr>\n",
              "    <tr>\n",
              "      <th>data_primeira_aula</th>\n",
              "      <td>datetime64[ns]</td>\n",
              "    </tr>\n",
              "    <tr>\n",
              "      <th>data_primeira_compra</th>\n",
              "      <td>datetime64[ns]</td>\n",
              "    </tr>\n",
              "  </tbody>\n",
              "</table>\n",
              "</div><br><label><b>dtype:</b> object</label>"
            ]
          },
          "metadata": {},
          "execution_count": 97
        }
      ]
    },
    {
      "cell_type": "code",
      "source": [
        "# Verificando a quantidade de IDs\n",
        "\n",
        "df_edumais.value_counts('id').sum()"
      ],
      "metadata": {
        "colab": {
          "base_uri": "https://localhost:8080/"
        },
        "id": "syRLpszfiUHe",
        "outputId": "e1d3398b-328a-4ad3-c27c-826db23bcc91"
      },
      "execution_count": null,
      "outputs": [
        {
          "output_type": "execute_result",
          "data": {
            "text/plain": [
              "np.int64(500)"
            ]
          },
          "metadata": {},
          "execution_count": 98
        }
      ]
    },
    {
      "cell_type": "markdown",
      "source": [
        "#### **2. Respondendo as perguntas**"
      ],
      "metadata": {
        "id": "mZIYQuVW4GoL"
      }
    },
    {
      "cell_type": "markdown",
      "source": [
        "**Quantos usuários passam por cada etapa da jornada?**"
      ],
      "metadata": {
        "id": "l6flHK6k009Y"
      }
    },
    {
      "cell_type": "code",
      "source": [
        "# Volume de usuários no funil\n",
        "\n",
        "total_acesso = df_edumais['data_acesso'].notna().sum()\n",
        "total_cadastro = df_edumais['data_cadastro'].notna().sum()\n",
        "total_aula = df_edumais['data_primeira_aula'].notna().sum()\n",
        "total_compra = df_edumais['data_primeira_compra'].notna().sum()\n",
        "\n",
        "print(\"Total Acessos:\", total_acesso)\n",
        "print(\"Total Cadastros:\", total_cadastro)\n",
        "print(\"Total Primeira Aula:\", total_aula)\n",
        "print(\"Total Primeira Compra:\", total_compra)"
      ],
      "metadata": {
        "colab": {
          "base_uri": "https://localhost:8080/"
        },
        "id": "Rok5ivH6kk7k",
        "outputId": "6c052769-711b-47e1-f96b-3b300f3664ba"
      },
      "execution_count": null,
      "outputs": [
        {
          "output_type": "stream",
          "name": "stdout",
          "text": [
            "Total Acessos: 500\n",
            "Total Cadastros: 369\n",
            "Total Primeira Aula: 191\n",
            "Total Primeira Compra: 83\n"
          ]
        }
      ]
    },
    {
      "cell_type": "code",
      "source": [
        "# Visualizando o volume de leads por etapa\n",
        "etapas = [\"Acessos\", \"Cadastros\", \"Primeira Aula\", \"Primeira Compra\"]\n",
        "valores = [total_acesso, total_cadastro, total_aula, total_compra]\n",
        "\n",
        "plt.figure(figsize=(10,5))\n",
        "plt.bar(etapas, valores, color=\"#07807b\")\n",
        "plt.title(\"Etapas do Funil - EduMais\")\n",
        "plt.ylabel(\"Quantidade de usuários\")\n",
        "plt.grid(axis='y', linestyle='--', alpha=0.5)\n",
        "plt.show()"
      ],
      "metadata": {
        "id": "HZIPXFCe343o",
        "colab": {
          "base_uri": "https://localhost:8080/",
          "height": 468
        },
        "outputId": "dc298e1c-16eb-470e-cb40-436d149f2473"
      },
      "execution_count": null,
      "outputs": [
        {
          "output_type": "display_data",
          "data": {
            "text/plain": [
              "<Figure size 1000x500 with 1 Axes>"
            ],
            "image/png": "[encoded data removed]"
          },
          "metadata": {}
        }
      ]
    },
    {
      "cell_type": "markdown",
      "source": [
        "✅ Conclusão:\n",
        "\n",
        "Total de usuários por etapa:\n",
        "- Acessou a plataforma - 500 usuários\n",
        "- Realizou Cadastro - 369 usuários\n",
        "- Assistiu a Primeira Aula - 191 usuários\n",
        "- Realizou uma compra - 83 usuários"
      ],
      "metadata": {
        "id": "o4lp1jFBz2HF"
      }
    },
    {
      "cell_type": "markdown",
      "source": [
        "**Quais são as taxas de conversão entre as etapas?**"
      ],
      "metadata": {
        "id": "7lcapDIV1HNf"
      }
    },
    {
      "cell_type": "code",
      "source": [
        "# Conversão por etapa\n",
        "\n",
        "conv_cadastro = (total_cadastro / total_acesso) * 100\n",
        "conv_aula = (total_aula / total_cadastro) * 100\n",
        "conv_compra = (total_compra / total_aula) * 100\n",
        "\n",
        "print(f\"Taxa de conversão Acesso -> Cadastro: {conv_cadastro:.1f}%\")\n",
        "print(f\"Taxa de conversão Cadastro -> Primeira Aula: {conv_aula:.1f}%\")\n",
        "print(f\"Taxa de conversão Primeira Aula -> Compra: {conv_compra:.1f}%\")"
      ],
      "metadata": {
        "id": "ynHACFDm35Wq",
        "colab": {
          "base_uri": "https://localhost:8080/"
        },
        "outputId": "50723c06-38cf-4eab-faa8-ffc84214cf45"
      },
      "execution_count": null,
      "outputs": [
        {
          "output_type": "stream",
          "name": "stdout",
          "text": [
            "Taxa de conversão Acesso -> Cadastro: 73.8%\n",
            "Taxa de conversão Cadastro -> Primeira Aula: 51.8%\n",
            "Taxa de conversão Primeira Aula -> Compra: 43.5%\n"
          ]
        }
      ]
    },
    {
      "cell_type": "code",
      "source": [
        "# conversão total do funil\n",
        "\n",
        "conv_total = (total_compra / total_acesso) * 100\n",
        "\n",
        "print(f\"Taxa de conversão total do funil: {conv_total:.1f}%\")"
      ],
      "metadata": {
        "colab": {
          "base_uri": "https://localhost:8080/"
        },
        "id": "wXst8HKhuDcp",
        "outputId": "03e3e8c3-5b41-4f98-9756-a0b0bbf7c8c2"
      },
      "execution_count": null,
      "outputs": [
        {
          "output_type": "stream",
          "name": "stdout",
          "text": [
            "Taxa de conversão total do funil: 16.6%\n"
          ]
        }
      ]
    },
    {
      "cell_type": "code",
      "source": [
        "# Visualizando o funil volume e conversões\n",
        "\n",
        "etapas = [\"Acesso ao Site\", \"Cadastro Completo\", \"Primeira Aula\", \"Primeira Compra\"]\n",
        "valores = [total_acesso, total_cadastro, total_aula, total_compra]\n",
        "\n",
        "fig = go.Figure(go.Funnel(\n",
        "    y=etapas,\n",
        "    x=valores,\n",
        "    textinfo=\"value+percent previous\"\n",
        "))\n",
        "\n",
        "fig.update_layout(\n",
        "    title=\"Funil de Conversão - EduMais\",\n",
        "    font=dict(size=14),\n",
        "    width=800,\n",
        "    height=500\n",
        ")\n",
        "\n",
        "fig.show()"
      ],
      "metadata": {
        "colab": {
          "base_uri": "https://localhost:8080/",
          "height": 517
        },
        "id": "eqBWsTe-ukCF",
        "outputId": "0996bf19-98e5-4209-dd2b-a0df2837f102"
      },
      "execution_count": null,
      "outputs": [
        {
          "output_type": "display_data",
          "data": {
            "text/html": [
              "<html>\n",
              "<head><meta charset=\"utf-8\" /></head>\n",
              "<body>\n",
              "    <div>            <script src=\"https://cdnjs.cloudflare.com/ajax/libs/mathjax/2.7.5/MathJax.js?config=TeX-AMS-MML_SVG\"></script><script type=\"text/javascript\">if (window.MathJax && window.MathJax.Hub && window.MathJax.Hub.Config) {window.MathJax.Hub.Config({SVG: {font: \"STIX-Web\"}});}</script>                <script type=\"text/javascript\">window.PlotlyConfig = {MathJaxConfig: 'local'};</script>\n",
              "        <script charset=\"utf-8\" src=\"https://cdn.plot.ly/plotly-2.35.2.min.js\"></script>                <div id=\"5d77d242-dd8c-4dfe-b4e3-74d02fd29d5c\" class=\"plotly-graph-div\" style=\"height:500px; width:800px;\"></div>            <script type=\"text/javascript\">                                    window.PLOTLYENV=window.PLOTLYENV || {};                                    if (document.getElementById(\"5d77d242-dd8c-4dfe-b4e3-74d02fd29d5c\")) {                    Plotly.newPlot(                        \"5d77d242-dd8c-4dfe-b4e3-74d02fd29d5c\",                        [{\"textinfo\":\"value+percent previous\",\"x\":[500,369,191,83],\"y\":[\"Acesso ao Site\",\"Cadastro Completo\",\"Primeira Aula\",\"Primeira Compra\"],\"type\":\"funnel\"}],                        {\"template\":{\"data\":{\"histogram2dcontour\":[{\"type\":\"histogram2dcontour\",\"colorbar\":{\"outlinewidth\":0,\"ticks\":\"\"},\"colorscale\":[[0.0,\"#0d0887\"],[0.1111111111111111,\"#46039f\"],[0.2222222222222222,\"#7201a8\"],[0.3333333333333333,\"#9c179e\"],[0.4444444444444444,\"#bd3786\"],[0.5555555555555556,\"#d8576b\"],[0.6666666666666666,\"#ed7953\"],[0.7777777777777778,\"#fb9f3a\"],[0.8888888888888888,\"#fdca26\"],[1.0,\"#f0f921\"]]}],\"choropleth\":[{\"type\":\"choropleth\",\"colorbar\":{\"outlinewidth\":0,\"ticks\":\"\"}}],\"histogram2d\":[{\"type\":\"histogram2d\",\"colorbar\":{\"outlinewidth\":0,\"ticks\":\"\"},\"colorscale\":[[0.0,\"#0d0887\"],[0.1111111111111111,\"#46039f\"],[0.2222222222222222,\"#7201a8\"],[0.3333333333333333,\"#9c179e\"],[0.4444444444444444,\"#bd3786\"],[0.5555555555555556,\"#d8576b\"],[0.6666666666666666,\"#ed7953\"],[0.7777777777777778,\"#fb9f3a\"],[0.8888888888888888,\"#fdca26\"],[1.0,\"#f0f921\"]]}],\"heatmap\":[{\"type\":\"heatmap\",\"colorbar\":{\"outlinewidth\":0,\"ticks\":\"\"},\"colorscale\":[[0.0,\"#0d0887\"],[0.1111111111111111,\"#46039f\"],[0.2222222222222222,\"#7201a8\"],[0.3333333333333333,\"#9c179e\"],[0.4444444444444444,\"#bd3786\"],[0.5555555555555556,\"#d8576b\"],[0.6666666666666666,\"#ed7953\"],[0.7777777777777778,\"#fb9f3a\"],[0.8888888888888888,\"#fdca26\"],[1.0,\"#f0f921\"]]}],\"heatmapgl\":[{\"type\":\"heatmapgl\",\"colorbar\":{\"outlinewidth\":0,\"ticks\":\"\"},\"colorscale\":[[0.0,\"#0d0887\"],[0.1111111111111111,\"#46039f\"],[0.2222222222222222,\"#7201a8\"],[0.3333333333333333,\"#9c179e\"],[0.4444444444444444,\"#bd3786\"],[0.5555555555555556,\"#d8576b\"],[0.6666666666666666,\"#ed7953\"],[0.7777777777777778,\"#fb9f3a\"],[0.8888888888888888,\"#fdca26\"],[1.0,\"#f0f921\"]]}],\"contourcarpet\":[{\"type\":\"contourcarpet\",\"colorbar\":{\"outlinewidth\":0,\"ticks\":\"\"}}],\"contour\":[{\"type\":\"contour\",\"colorbar\":{\"outlinewidth\":0,\"ticks\":\"\"},\"colorscale\":[[0.0,\"#0d0887\"],[0.1111111111111111,\"#46039f\"],[0.2222222222222222,\"#7201a8\"],[0.3333333333333333,\"#9c179e\"],[0.4444444444444444,\"#bd3786\"],[0.5555555555555556,\"#d8576b\"],[0.6666666666666666,\"#ed7953\"],[0.7777777777777778,\"#fb9f3a\"],[0.8888888888888888,\"#fdca26\"],[1.0,\"#f0f921\"]]}],\"surface\":[{\"type\":\"surface\",\"colorbar\":{\"outlinewidth\":0,\"ticks\":\"\"},\"colorscale\":[[0.0,\"#0d0887\"],[0.1111111111111111,\"#46039f\"],[0.2222222222222222,\"#7201a8\"],[0.3333333333333333,\"#9c179e\"],[0.4444444444444444,\"#bd3786\"],[0.5555555555555556,\"#d8576b\"],[0.6666666666666666,\"#ed7953\"],[0.7777777777777778,\"#fb9f3a\"],[0.8888888888888888,\"#fdca26\"],[1.0,\"#f0f921\"]]}],\"mesh3d\":[{\"type\":\"mesh3d\",\"colorbar\":{\"outlinewidth\":0,\"ticks\":\"\"}}],\"scatter\":[{\"fillpattern\":{\"fillmode\":\"overlay\",\"size\":10,\"solidity\":0.2},\"type\":\"scatter\"}],\"parcoords\":[{\"type\":\"parcoords\",\"line\":{\"colorbar\":{\"outlinewidth\":0,\"ticks\":\"\"}}}],\"scatterpolargl\":[{\"type\":\"scatterpolargl\",\"marker\":{\"colorbar\":{\"outlinewidth\":0,\"ticks\":\"\"}}}],\"bar\":[{\"error_x\":{\"color\":\"#2a3f5f\"},\"error_y\":{\"color\":\"#2a3f5f\"},\"marker\":{\"line\":{\"color\":\"#E5ECF6\",\"width\":0.5},\"pattern\":{\"fillmode\":\"overlay\",\"size\":10,\"solidity\":0.2}},\"type\":\"bar\"}],\"scattergeo\":[{\"type\":\"scattergeo\",\"marker\":{\"colorbar\":{\"outlinewidth\":0,\"ticks\":\"\"}}}],\"scatterpolar\":[{\"type\":\"scatterpolar\",\"marker\":{\"colorbar\":{\"outlinewidth\":0,\"ticks\":\"\"}}}],\"histogram\":[{\"marker\":{\"pattern\":{\"fillmode\":\"overlay\",\"size\":10,\"solidity\":0.2}},\"type\":\"histogram\"}],\"scattergl\":[{\"type\":\"scattergl\",\"marker\":{\"colorbar\":{\"outlinewidth\":0,\"ticks\":\"\"}}}],\"scatter3d\":[{\"type\":\"scatter3d\",\"line\":{\"colorbar\":{\"outlinewidth\":0,\"ticks\":\"\"}},\"marker\":{\"colorbar\":{\"outlinewidth\":0,\"ticks\":\"\"}}}],\"scattermapbox\":[{\"type\":\"scattermapbox\",\"marker\":{\"colorbar\":{\"outlinewidth\":0,\"ticks\":\"\"}}}],\"scatterternary\":[{\"type\":\"scatterternary\",\"marker\":{\"colorbar\":{\"outlinewidth\":0,\"ticks\":\"\"}}}],\"scattercarpet\":[{\"type\":\"scattercarpet\",\"marker\":{\"colorbar\":{\"outlinewidth\":0,\"ticks\":\"\"}}}],\"carpet\":[{\"aaxis\":{\"endlinecolor\":\"#2a3f5f\",\"gridcolor\":\"white\",\"linecolor\":\"white\",\"minorgridcolor\":\"white\",\"startlinecolor\":\"#2a3f5f\"},\"baxis\":{\"endlinecolor\":\"#2a3f5f\",\"gridcolor\":\"white\",\"linecolor\":\"white\",\"minorgridcolor\":\"white\",\"startlinecolor\":\"#2a3f5f\"},\"type\":\"carpet\"}],\"table\":[{\"cells\":{\"fill\":{\"color\":\"#EBF0F8\"},\"line\":{\"color\":\"white\"}},\"header\":{\"fill\":{\"color\":\"#C8D4E3\"},\"line\":{\"color\":\"white\"}},\"type\":\"table\"}],\"barpolar\":[{\"marker\":{\"line\":{\"color\":\"#E5ECF6\",\"width\":0.5},\"pattern\":{\"fillmode\":\"overlay\",\"size\":10,\"solidity\":0.2}},\"type\":\"barpolar\"}],\"pie\":[{\"automargin\":true,\"type\":\"pie\"}]},\"layout\":{\"autotypenumbers\":\"strict\",\"colorway\":[\"#636efa\",\"#EF553B\",\"#00cc96\",\"#ab63fa\",\"#FFA15A\",\"#19d3f3\",\"#FF6692\",\"#B6E880\",\"#FF97FF\",\"#FECB52\"],\"font\":{\"color\":\"#2a3f5f\"},\"hovermode\":\"closest\",\"hoverlabel\":{\"align\":\"left\"},\"paper_bgcolor\":\"white\",\"plot_bgcolor\":\"#E5ECF6\",\"polar\":{\"bgcolor\":\"#E5ECF6\",\"angularaxis\":{\"gridcolor\":\"white\",\"linecolor\":\"white\",\"ticks\":\"\"},\"radialaxis\":{\"gridcolor\":\"white\",\"linecolor\":\"white\",\"ticks\":\"\"}},\"ternary\":{\"bgcolor\":\"#E5ECF6\",\"aaxis\":{\"gridcolor\":\"white\",\"linecolor\":\"white\",\"ticks\":\"\"},\"baxis\":{\"gridcolor\":\"white\",\"linecolor\":\"white\",\"ticks\":\"\"},\"caxis\":{\"gridcolor\":\"white\",\"linecolor\":\"white\",\"ticks\":\"\"}},\"coloraxis\":{\"colorbar\":{\"outlinewidth\":0,\"ticks\":\"\"}},\"colorscale\":{\"sequential\":[[0.0,\"#0d0887\"],[0.1111111111111111,\"#46039f\"],[0.2222222222222222,\"#7201a8\"],[0.3333333333333333,\"#9c179e\"],[0.4444444444444444,\"#bd3786\"],[0.5555555555555556,\"#d8576b\"],[0.6666666666666666,\"#ed7953\"],[0.7777777777777778,\"#fb9f3a\"],[0.8888888888888888,\"#fdca26\"],[1.0,\"#f0f921\"]],\"sequentialminus\":[[0.0,\"#0d0887\"],[0.1111111111111111,\"#46039f\"],[0.2222222222222222,\"#7201a8\"],[0.3333333333333333,\"#9c179e\"],[0.4444444444444444,\"#bd3786\"],[0.5555555555555556,\"#d8576b\"],[0.6666666666666666,\"#ed7953\"],[0.7777777777777778,\"#fb9f3a\"],[0.8888888888888888,\"#fdca26\"],[1.0,\"#f0f921\"]],\"diverging\":[[0,\"#8e0152\"],[0.1,\"#c51b7d\"],[0.2,\"#de77ae\"],[0.3,\"#f1b6da\"],[0.4,\"#fde0ef\"],[0.5,\"#f7f7f7\"],[0.6,\"#e6f5d0\"],[0.7,\"#b8e186\"],[0.8,\"#7fbc41\"],[0.9,\"#4d9221\"],[1,\"#276419\"]]},\"xaxis\":{\"gridcolor\":\"white\",\"linecolor\":\"white\",\"ticks\":\"\",\"title\":{\"standoff\":15},\"zerolinecolor\":\"white\",\"automargin\":true,\"zerolinewidth\":2},\"yaxis\":{\"gridcolor\":\"white\",\"linecolor\":\"white\",\"ticks\":\"\",\"title\":{\"standoff\":15},\"zerolinecolor\":\"white\",\"automargin\":true,\"zerolinewidth\":2},\"scene\":{\"xaxis\":{\"backgroundcolor\":\"#E5ECF6\",\"gridcolor\":\"white\",\"linecolor\":\"white\",\"showbackground\":true,\"ticks\":\"\",\"zerolinecolor\":\"white\",\"gridwidth\":2},\"yaxis\":{\"backgroundcolor\":\"#E5ECF6\",\"gridcolor\":\"white\",\"linecolor\":\"white\",\"showbackground\":true,\"ticks\":\"\",\"zerolinecolor\":\"white\",\"gridwidth\":2},\"zaxis\":{\"backgroundcolor\":\"#E5ECF6\",\"gridcolor\":\"white\",\"linecolor\":\"white\",\"showbackground\":true,\"ticks\":\"\",\"zerolinecolor\":\"white\",\"gridwidth\":2}},\"shapedefaults\":{\"line\":{\"color\":\"#2a3f5f\"}},\"annotationdefaults\":{\"arrowcolor\":\"#2a3f5f\",\"arrowhead\":0,\"arrowwidth\":1},\"geo\":{\"bgcolor\":\"white\",\"landcolor\":\"#E5ECF6\",\"subunitcolor\":\"white\",\"showland\":true,\"showlakes\":true,\"lakecolor\":\"white\"},\"title\":{\"x\":0.05},\"mapbox\":{\"style\":\"light\"}}},\"font\":{\"size\":14},\"title\":{\"text\":\"Funil de Conversão - EduMais\"},\"width\":800,\"height\":500},                        {\"responsive\": true}                    ).then(function(){\n",
              "                            \n",
              "var gd = document.getElementById('5d77d242-dd8c-4dfe-b4e3-74d02fd29d5c');\n",
              "var x = new MutationObserver(function (mutations, observer) {{\n",
              "        var display = window.getComputedStyle(gd).display;\n",
              "        if (!display || display === 'none') {{\n",
              "            console.log([gd, 'removed!']);\n",
              "            Plotly.purge(gd);\n",
              "            observer.disconnect();\n",
              "        }}\n",
              "}});\n",
              "\n",
              "// Listen for the removal of the full notebook cells\n",
              "var notebookContainer = gd.closest('#notebook-container');\n",
              "if (notebookContainer) {{\n",
              "    x.observe(notebookContainer, {childList: true});\n",
              "}}\n",
              "\n",
              "// Listen for the clearing of the current output cell\n",
              "var outputEl = gd.closest('.output');\n",
              "if (outputEl) {{\n",
              "    x.observe(outputEl, {childList: true});\n",
              "}}\n",
              "\n",
              "                        })                };                            </script>        </div>\n",
              "</body>\n",
              "</html>"
            ]
          },
          "metadata": {}
        }
      ]
    },
    {
      "cell_type": "markdown",
      "source": [
        "✅ Conclusão:\n",
        "\n",
        "- Conversão Acesso -> Cadastro: 73.8%\n",
        "- Conversão Cadastro -> Primeira Aula: 51.8%\n",
        "- Conversão Primeira Aula -> Compra: 43.5%\n",
        "\n",
        "\n",
        "A conversão total do funil da EduMais é de **16.6%**"
      ],
      "metadata": {
        "id": "D9MVznNJ3mXi"
      }
    },
    {
      "cell_type": "markdown",
      "source": [
        "**Em qual etapa ocorre a maior perda de usuários?**"
      ],
      "metadata": {
        "id": "kEN01kxI1MAu"
      }
    },
    {
      "cell_type": "code",
      "source": [
        "etapas = [\"Acesso ao Site\", \"Cadastro Completo\", \"Primeira Aula\", \"Primeira Compra\"]\n",
        "valores = [total_acesso, total_cadastro, total_aula, total_compra]\n",
        "\n",
        "\n",
        "percas_cadastro =  total_acesso - total_cadastro\n",
        "percas_aula = total_cadastro - total_aula\n",
        "percas_compra = total_aula - total_compra\n",
        "\n",
        "print(f\"As percas na etapa de Cadastro foi de {percas_cadastro} usuários\")\n",
        "print(f\"As percas na etapa de Primeira Aula foi de {percas_aula} usuários\")\n",
        "print(f\"As percas na etapa de Primeira Compra foi de {percas_compra} usuários\")"
      ],
      "metadata": {
        "id": "przLAHE832qb",
        "colab": {
          "base_uri": "https://localhost:8080/"
        },
        "outputId": "6961f3d8-ef44-4d29-9260-ce2aff9b7455"
      },
      "execution_count": null,
      "outputs": [
        {
          "output_type": "stream",
          "name": "stdout",
          "text": [
            "As percas na etapa de Cadastro foi de 131 usuários\n",
            "As percas na etapa de Primeira Aula foi de 178 usuários\n",
            "As percas na etapa de Primeira Compra foi de 108 usuários\n"
          ]
        }
      ]
    },
    {
      "cell_type": "markdown",
      "source": [
        "✅ Conclusão:\n",
        "\n",
        "A maior perda de usuários ocorre entre Cadastro -> Primeira Aula, com **178** usuários a menos, o que representa a etapa mais crítica do funil da EduMais."
      ],
      "metadata": {
        "id": "kX8_sWM12MLy"
      }
    },
    {
      "cell_type": "markdown",
      "source": [
        "**Quanto tempo os usuários levam para avançar em cada etapa?**"
      ],
      "metadata": {
        "id": "IQ8hJpNS33h3"
      }
    },
    {
      "cell_type": "code",
      "source": [
        "# Tempo médio por etapa\n",
        "\n",
        "df_edumais['dias_ate_cadastro'] = (df_edumais['data_cadastro'] - df_edumais['data_acesso']).dt.days\n",
        "df_edumais['dias_ate_aula'] = (df_edumais['data_primeira_aula'] - df_edumais['data_cadastro']).dt.days\n",
        "df_edumais['dias_ate_compra'] = (df_edumais['data_primeira_compra'] - df_edumais['data_primeira_aula']).dt.days\n",
        "\n",
        "print(f\"Acesso -> Cadastro: {df_edumais['dias_ate_cadastro'].mean(skipna=True):.0f} dias\")\n",
        "print(f\"Cadastro -> Primeira Aula: {df_edumais['dias_ate_aula'].mean(skipna=True):.0f} dias\")\n",
        "print(f\"Primeira Aula -> Compra: {df_edumais['dias_ate_compra'].mean(skipna=True):.0f} dias\")"
      ],
      "metadata": {
        "id": "7u0BiY1jxq4D",
        "colab": {
          "base_uri": "https://localhost:8080/"
        },
        "outputId": "6fe7829b-8de8-4530-879a-74d14a3b1dfe"
      },
      "execution_count": null,
      "outputs": [
        {
          "output_type": "stream",
          "name": "stdout",
          "text": [
            "Acesso -> Cadastro: 1 dias\n",
            "Cadastro -> Primeira Aula: 1 dias\n",
            "Primeira Aula -> Compra: 2 dias\n"
          ]
        }
      ]
    },
    {
      "cell_type": "code",
      "source": [
        "# Visualizando o tempo média da etapa de Primeira Aula -> Compra:\n",
        "\n",
        "plt.figure(figsize=(10,5))\n",
        "\n",
        "plt.hist(df_edumais['dias_ate_compra'].dropna(), bins=range(0,6), alpha=0.6, label=\"Primeira Aula → Compra\")\n",
        "plt.axvline(df_edumais['dias_ate_compra'].mean(skipna=True), color='orange', linestyle='--', linewidth=2)\n",
        "\n",
        "plt.title(\"Distribuição dos tempos entre etapas do funil - EduMais\")\n",
        "plt.xlabel(\"Dias para avançar de etapa\")\n",
        "plt.ylabel(\"Quantidade de usuários\")\n",
        "plt.legend()\n",
        "plt.grid(axis='y', linestyle='--', alpha=0.6)\n",
        "plt.show()"
      ],
      "metadata": {
        "colab": {
          "base_uri": "https://localhost:8080/",
          "height": 487
        },
        "id": "xrUlfZ3f8WMI",
        "outputId": "8ed93977-3c40-4271-f062-c60c9affbfe8"
      },
      "execution_count": null,
      "outputs": [
        {
          "output_type": "display_data",
          "data": {
            "text/plain": [
              "<Figure size 1000x500 with 1 Axes>"
            ],
            "image/png": "[encoded data removed]"
          },
          "metadata": {}
        }
      ]
    },
    {
      "cell_type": "markdown",
      "source": [
        "✅ Conclusão:\n",
        "\n",
        "O funil flui bem até a primeira aula, mas há maior tempo de espera na etapa final, o que pode aumentar a chance de desistência.\n",
        "\n",
        "**Oportunidade:** trabalhar estratégias de engajamento e conversão logo após a primeira aula (ex.: e-mail, benefícios imediatos, descontos)."
      ],
      "metadata": {
        "id": "ent1moiX47-j"
      }
    },
    {
      "cell_type": "markdown",
      "source": [
        "#### **3. Interpretação dos resultados**\n",
        "\n",
        "A análise do funil de conversão da EduMais mostrou que, dos 500 usuários que acessaram a plataforma, apenas 83 chegaram à compra, resultando em uma conversão total de 16,6%. As maiores perdas ocorrem na etapa Cadastro -> Primeira Aula (178 usuários a menos), indicando um gargalo crítico no engajamento inicial após o cadastro. Além disso, o tempo médio para avançar até a compra é maior nessa última etapa (2 dias), aumentando o risco de desistência. As oportunidades de melhoria estão em estimular os usuários a assistirem a primeira aula logo após o cadastro e acelerar a decisão de compra com ações de engajamento, benefícios imediatos e comunicação ativa.\n",
        "\n",
        "\n",
        "#### **🚀 Oportunidades de melhoria**\n",
        "\n",
        "**Reduzir a queda entre Cadastro e Primeira Aula:**\n",
        "\n",
        "- Implementar onboarding mais claro.\n",
        "\n",
        "- Enviar notificações ou lembretes para incentivar a primeira aula.\n",
        "\n",
        "**Acelerar a decisão de compra após a primeira aula:**\n",
        "\n",
        "- Oferecer benefícios imediatos (descontos, bônus) após a aula experimental.\n",
        "\n",
        "- Criar campanhas de e-mail marketing com provas sociais e urgência.\n",
        "\n",
        "**Monitorar continuamente as conversões:**\n",
        "\n",
        "- Acompanhar métricas diárias para detectar quedas fora do padrão."
      ],
      "metadata": {
        "id": "NYnPaNlI4Ped"
      }
    },
    {
      "cell_type": "markdown",
      "source": [
        "## **🎁 Bônus: Dicas e recursos extras para análises de dados**"
      ],
      "metadata": {
        "id": "mGdCCFd78Iyd"
      }
    },
    {
      "cell_type": "markdown",
      "source": [
        "### **Atalhos e truques no Pandas**\n",
        "\n",
        "- `df.info()`  Ver resumo do dataset (quantidade de linhas, colunas e tipos de dados).\n",
        "\n",
        "- `df.describe()` Estatísticas básicas (média, mediana, mínimo, máximo).\n",
        "\n",
        "- `df['coluna'].value_counts() `Contar valores únicos.\n",
        "\n",
        "- `df.sort_values('coluna')` Ordenar os dados.\n",
        "\n",
        "- `df.isna().sum() `Checar dados ausentes (NaN).\n",
        "\n",
        "- `Documentação Pandas: ` https://pandas.pydata.org/docs/user_guide/index.html#user-guide"
      ],
      "metadata": {
        "id": "jNjHtG4mFYd_"
      }
    },
    {
      "cell_type": "markdown",
      "source": [
        "### **Libs de visualização**\n",
        "\n",
        "- `Documentação Matplotlib:` https://matplotlib.org/stable/gallery/index.html\n",
        "- `Documentação Plotly:` https://plotly.com/python/"
      ],
      "metadata": {
        "id": "pySsQA57FsJh"
      }
    },
    {
      "cell_type": "markdown",
      "source": [
        "### **Recursos gratuitos para dados**\n",
        "\n",
        "- `Google Colab:` roda notebooks online sem precisar instalar nada.\n",
        "- `Kaggle:` datasets gratuitos + notebooks prontos para aprender.\n",
        "- `Datasets públicos:` dados.gov.br (Brasil)"
      ],
      "metadata": {
        "id": "eFdIKvz-F4ur"
      }
    },
    {
      "cell_type": "markdown",
      "source": [
        "### **Boas práticas**\n",
        "\n",
        "- Sempre verifique os dados antes de analisar (valores nulos, tipos errados).\n",
        "- Use nomes de variáveis claros (ex.: usuarios_por_mes, não apenas u).\n",
        "- Documente os passos com comentários simples no código.\n",
        "- Crie gráficos para validar insights (visual ajuda a entender melhor os dados)."
      ],
      "metadata": {
        "id": "VfZc3IQaGPeQ"
      }
    },
    {
      "cell_type": "markdown",
      "source": [
        "# OBRIGADA POR ACOMPANHAR ATÉ AQUI ❤"
      ],
      "metadata": {
        "id": "HctfgL2RHMrr"
      }
    }
  ]
}